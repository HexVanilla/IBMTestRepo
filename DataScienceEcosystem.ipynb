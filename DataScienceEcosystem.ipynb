{
  "metadata": {
    "kernelspec": {
      "name": "python",
      "display_name": "Python (Pyodide)",
      "language": "python"
    },
    "language_info": {
      "codemirror_mode": {
        "name": "python",
        "version": 3
      },
      "file_extension": ".py",
      "mimetype": "text/x-python",
      "name": "python",
      "nbconvert_exporter": "python",
      "pygments_lexer": "ipython3",
      "version": "3.8"
    }
  },
  "nbformat_minor": 5,
  "nbformat": 4,
  "cells": [
    {
      "id": "d007d010-bf75-4351-8f49-14ca97023f09",
      "cell_type": "markdown",
      "source": "# Data Science Tools and Ecosystem",
      "metadata": {}
    },
    {
      "id": "21f1ebb6-d441-457b-ae90-7bdad2b413a4",
      "cell_type": "markdown",
      "source": "In this notebook, Data Science Tools and Ecosystem are summarized.",
      "metadata": {}
    },
    {
      "id": "29a1ef44-4846-42e2-8d60-d8d5f417e4e5",
      "cell_type": "markdown",
      "source": "Some of the popular languages that Data Scientists use are:\n1. Python\n2. R\n3. Julia",
      "metadata": {}
    },
    {
      "id": "eae4a005-bb08-41af-bb4f-3490ac408c1f",
      "cell_type": "markdown",
      "source": "Some of the commonly used libraries used by Data Scientists include:\n1. TensorFlow\n2. Keras\n3. Pandas",
      "metadata": {}
    },
    {
      "id": "0c561a0e-8bce-47f6-805a-a9f9a4f2db7c",
      "cell_type": "markdown",
      "source": "| Data Science Tools |\n|--------------------|\n| Jupyter Notebook   |\n| RStudio            |\n| VS Code            |",
      "metadata": {}
    },
    {
      "id": "689ddf42-bb74-477c-898b-cecf2e15a655",
      "cell_type": "markdown",
      "source": " ### Below are a few examples of evaluating arithmetic expressions in Python           \n  ",
      "metadata": {}
    },
    {
      "id": "382a27c3-dbb6-4725-a7d4-2da58abe36dd",
      "cell_type": "code",
      "source": "#This a simple arithmetic expression to mutiply then add integers\n(3*4)+5",
      "metadata": {
        "trusted": true
      },
      "outputs": [
        {
          "execution_count": 3,
          "output_type": "execute_result",
          "data": {
            "text/plain": "17"
          },
          "metadata": {}
        }
      ],
      "execution_count": 3
    },
    {
      "id": "27372463-273e-4ee1-86dc-a41769cd109b",
      "cell_type": "code",
      "source": "#This will convert 200 minutes to hours by diving by 60\n200/60",
      "metadata": {
        "trusted": true
      },
      "outputs": [
        {
          "execution_count": 4,
          "output_type": "execute_result",
          "data": {
            "text/plain": "3.3333333333333335"
          },
          "metadata": {}
        }
      ],
      "execution_count": 4
    },
    {
      "id": "b4322a7b-f844-4d22-bde3-cbdc13027a86",
      "cell_type": "markdown",
      "source": "**Objectives:**\n* List popular languages for Data Science\n* Name Some of the commonly used libraries used by Data Scientists\n* Create markdown and code cells",
      "metadata": {}
    },
    {
      "id": "ebb6f16d-11c8-486a-9238-4c44a227944a",
      "cell_type": "markdown",
      "source": "## Author \nIan Mery",
      "metadata": {}
    },
    {
      "id": "e46b884e-0dee-48ef-b785-827a16657eb2",
      "cell_type": "code",
      "source": "",
      "metadata": {
        "trusted": true
      },
      "outputs": [],
      "execution_count": null
    }
  ]
}